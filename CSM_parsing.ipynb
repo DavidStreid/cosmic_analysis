{
 "metadata": {
  "name": "",
  "signature": "sha256:0861bddb662d38ad2a49a6e702bcbda0309b71e0e8bb7e9ef4028e7afa7bb190"
 },
 "nbformat": 3,
 "nbformat_minor": 0,
 "worksheets": [
  {
   "cells": [
    {
     "cell_type": "code",
     "collapsed": false,
     "input": [
      "import pandas as pd\n",
      "import requests, sys\n",
      "import csv\n",
      "\n",
      "# FOR PLOTTING OF DATA\n",
      "%matplotlib inline\n",
      "import matplotlib\n",
      "import pandas as pd\n",
      "import numpy as np\n",
      "import matplotlib.pyplot as plt\n",
      "\n",
      "import json"
     ],
     "language": "python",
     "metadata": {},
     "outputs": [],
     "prompt_number": 85
    },
    {
     "cell_type": "markdown",
     "metadata": {},
     "source": [
      "# Get COSMIC/gene Data\n",
      "### CSM_columns = \n",
      "['Gene name', 'Accession Number', 'Gene CDS length', 'HGNC ID', 'Sample name', 'ID_sample', 'ID_tumour', 'Primary site', 'Site subtype 1', u'Site subtype 2', u'Site subtype 3', u'Primary histology', u'Histology subtype 1', u'Histology subtype 2', u'Histology subtype 3', u'Genome-wide screen', u'Mutation ID', u'Mutation CDS', u'Mutation AA', u'Mutation Description', u'Mutation zygosity', u'LOH', u'GRCh', u'Mutation genome position', u'Mutation strand', u'SNP', u'FATHMM prediction', u'FATHMM score', u'Mutation somatic status', u'Pubmed_PMID', u'ID_STUDY', u'Sample source', u'Tumour origin', u'Age']"
     ]
    },
    {
     "cell_type": "code",
     "collapsed": false,
     "input": [
      "cosmic_data = pd.read_csv('CosmicMutantExport.tsv',delimiter='\\t',encoding='utf-8')"
     ],
     "language": "python",
     "metadata": {},
     "outputs": [],
     "prompt_number": 78
    },
    {
     "cell_type": "markdown",
     "metadata": {},
     "source": [
      "# Parse & Select only data for relevant genes\n",
      "\n",
      "### genes_of_interest (list): Only genes that we are interested in\n",
      "### GOI_cosmic (dataframe): Cosmic data only about relevant genes"
     ]
    },
    {
     "cell_type": "code",
     "collapsed": false,
     "input": [
      "# Grab the genes from the gene_domain_mappings.txt file\n",
      "genes = []\n",
      "genes_one_line =[]\n",
      "mapped_to_domains = []\n",
      "mapped_to_domains_one_line = []\n",
      "synonyms = []\n",
      "\n",
      "with open('gene_domain_mappings.txt','r') as f:\n",
      "    next(f) # Skip the headers in the file\n",
      "    reader=csv.reader(f,delimiter='\\t')\n",
      "    for i in reader:\n",
      "        mapped_to_domains_one_line.append(i[3])\n",
      "        genes_one_line.append(i[0])\n",
      "        domains = i[3].split(',')\n",
      "        for d in domains:\n",
      "            genes.append(i[0])\n",
      "            mapped_to_domains.append(d)\n",
      "            \n",
      "gene_info = pd.DataFrame({'gene_name': genes, 'pdom_id': mapped_to_domains})\n",
      "gene_info_one_line = pd.DataFrame({'gene_name': genes_one_line, 'pdom_id': mapped_to_domains_one_line})\n",
      "genes_of_interest = list(set(gene_info['gene_name']))\n",
      "\n",
      "GOI_cosmic = cosmic_data.loc[cosmic_data['Gene name'].isin(genes_of_interest)] # GOI_cosmic: cosmic data only on selected genes"
     ],
     "language": "python",
     "metadata": {},
     "outputs": [],
     "prompt_number": 79
    },
    {
     "cell_type": "markdown",
     "metadata": {},
     "source": [
      "# Get Cosmic Mutation position for genes_of_interest\n",
      "## Missing Genes\n",
      "### ['PARG', 'UHRF1', 'GSK3B', 'PAK2', 'MLL3', 'MLL2', 'MYST4', 'RPS6KA5', 'KDM5B', 'PRKDC', 'C14ORF169', 'CDK3', 'MLL']"
     ]
    },
    {
     "cell_type": "code",
     "collapsed": false,
     "input": [
      "gene = []\n",
      "missing_genes = []\n",
      "\n",
      "graph_info = [] # Each entry = [GENE   CHROMOSOME   POSITION_LIST   COUNT_LIST]\n",
      "\n",
      "for i in range(len(genes_of_interest)):\n",
      "    gene = GOI_cosmic[GOI_cosmic['Gene name'] == genes_of_interest[i]]\n",
      "    mut_chr = [] # chromosome\n",
      "    mut_pos = [] # position\n",
      "    \n",
      "    if gene.shape[0]:\n",
      "        pos_list = gene['Mutation genome position'].tolist()\n",
      "        for p in pos_list:\n",
      "            try:\n",
      "                p = p.split(':')\n",
      "            except AttributeError:\n",
      "                break\n",
      "            mut_chr.append(int(p[0]))\n",
      "            mp = p[1].split('-')\n",
      "            if len(mp) > 1:\n",
      "                if int(mp[0]) == int(mp[1]):\n",
      "                    mut_pos.append(int(mp[0]))\n",
      "                else:\n",
      "                    mut_pos.extend([int(mp[0]), int(mp[1])])\n",
      "            else:\n",
      "                mut_pos.extend(int(mp))\n",
      "    else:\n",
      "        missing_genes.append(genes_of_interest[i])                # If there are no entries for that gene\n",
      "    \n",
      "    mut_chr = list(set(mut_chr))                                  # Assuming that 1 gene:chromosomea; len(mut_chr) == 1\n",
      "#     mut_pos = list(set(mut_pos))\n",
      "    \n",
      "    mp_dic = {}   # Get count of mutations at each point\n",
      "    for p in mut_pos:\n",
      "        if not mp_dic.has_key(p):\n",
      "            mp_dic[p] = 1\n",
      "        else:\n",
      "            mp_dic[p] += 1\n",
      "        \n",
      "    xpos = []\n",
      "    ypos = []\n",
      "    for p in mp_dic.keys():\n",
      "        xpos.append(p)          # position\n",
      "        ypos.append(mp_dic[p])  # count at position\n",
      "    \n",
      "    graph_info.append([genes_of_interest[i], mut_chr, xpos, ypos])"
     ],
     "language": "python",
     "metadata": {},
     "outputs": [],
     "prompt_number": 80
    },
    {
     "cell_type": "code",
     "collapsed": false,
     "input": [
      "for g in graph_info:\n",
      "    if len(g[2]): # Only graph those with recoreded values\n",
      "        plt.scatter(g[2], g[3], linewidth=2.0)\n",
      "        plt.show()"
     ],
     "language": "python",
     "metadata": {},
     "outputs": [],
     "prompt_number": 109
    },
    {
     "cell_type": "markdown",
     "metadata": {},
     "source": [
      "# TODO - Get ENSG ID for each gene\n",
      "'gene_id_table.csv\n",
      "## GENE -> ENSG ID (http://useast.ensembl.org/biomart/martview/8a7625c99592a12b760553d542f2fe87)\n",
      "## ENSG_ID -> Nucleotide Sequence (http://rest.ensembl.org/sequence/id/ENSG00000116478?multiple_sequences=1;)"
     ]
    },
    {
     "cell_type": "code",
     "collapsed": false,
     "input": [
      "gene_data = pd.read_csv('gene_id_table.csv',delimiter=',',encoding='utf-8')\n",
      "gene_data = gene_data.dropna() # Eliniate genes w/o a ENSG ID\n",
      "\n",
      "gene = gene_data['Gene'].tolist()\n",
      "ensg_id = gene_data['ENSG_id'].tolist()\n",
      "\n",
      "server = \"http://rest.ensembl.org/\"\n",
      "ext = \"sequence/id/\"\n",
      "query = '?multiple_sequences=1;'\n",
      "\n",
      "gene_info = []\n",
      "\n",
      "for i in range(len(gene)):\n",
      "    eid = str(ensg_id[i])\n",
      "    r = requests.get(server+ext+eid+query, headers={ \"Content-Type\" : \"application/json\"})\n",
      "    gene_page = r.content    \n",
      "    gene_list =  gene_page.split(',')  # LIST - [0: gene_position_info, 1: ensg_id, 2: Sequence]\n",
      "\n",
      "    pos_info = gene_list[0].split(':') # LIST - [0: 'desc', 1: 'chromosome', 2: 'GRCh38', 3: CHR_#, 4: START_POS, 5: END_POS, 6: ?]\n",
      "    chr_num = pos_info[3]\n",
      "    start = pos_info[4]\n",
      "    end = pos_info[5]\n",
      "\n",
      "    aa = gene_list[2].split(':')\n",
      "    aa_seq = aa[1][1:-1]             # AA Sequence (excluding beginning and ending \")\n",
      "    \n",
      "    gene_json = json.dumps({'gene': gene[i], 'ensg_id': ensg_id[i], 'chr': chr_num, 'start': start, 'end': end, 'aa_seq': aa_seq}, sort_keys = True, indent = 4)\n",
      "    gene_info.append(gene_json)"
     ],
     "language": "python",
     "metadata": {},
     "outputs": [],
     "prompt_number": 284
    },
    {
     "cell_type": "markdown",
     "metadata": {},
     "source": [
      "# Getting Multiple Sequence Alignment from Clustal_Omega\n",
      "## Issue - Can only run 20 genes (15%) at a time b/c clustal_omega has a 2MB limit for a query file\n",
      "## Also, best to run 6000 nucleotides at a time for clustalW to return"
     ]
    },
    {
     "cell_type": "code",
     "collapsed": false,
     "input": [
      "clustal_omega_input = \"\"\n",
      "num_genes = len(gene_info)\n",
      "run_length = 25\n",
      "\n",
      "for i in range(num_genes): \n",
      "    num_comparisons = num_genes-(i+1)\n",
      "    num_rounds = num_comparisons/run_length      # Number of sets of 20 genes to compare\n",
      "    first_gene = json.loads(gene_info[i])\n",
      "    \n",
      "    for r in range(num_rounds):\n",
      "        clustal_omega_input = \"\"\n",
      "        clustal_omega_input += '>' + gene[i] + '\\n' + first_gene['aa_seq'] + '\\n' \n",
      "        for j in range(1,run_length):\n",
      "            compare_gene = json.loads(gene_info[i+(r*num_rounds)+j])\n",
      "            clustal_omega_input += '>' + gene[i+(r*num_rounds)+j] + '\\n' + compare_gene['aa_seq'] + '\\n' \n",
      "        f = open('clustal_input_' + gene[i] + '_' + str(r+1), 'w')\n",
      "        f.write(clustal_omega_input)"
     ],
     "language": "python",
     "metadata": {},
     "outputs": [],
     "prompt_number": 299
    },
    {
     "cell_type": "code",
     "collapsed": false,
     "input": [
      "# len(gene)\n",
      "len(gene_info)"
     ],
     "language": "python",
     "metadata": {},
     "outputs": [
      {
       "metadata": {},
       "output_type": "pyout",
       "prompt_number": 288,
       "text": [
        "139"
       ]
      }
     ],
     "prompt_number": 288
    },
    {
     "cell_type": "code",
     "collapsed": false,
     "input": [
      "# gene = json.loads(gene_info[0])\n",
      "# aa_seq = gene['aa_seq']\n",
      "# g_end = gene['end']\n",
      "# g_start = gene['start']"
     ],
     "language": "python",
     "metadata": {},
     "outputs": [],
     "prompt_number": 267
    },
    {
     "cell_type": "code",
     "collapsed": false,
     "input": [
      "len(aa_seq)"
     ],
     "language": "python",
     "metadata": {},
     "outputs": [
      {
       "metadata": {},
       "output_type": "pyout",
       "prompt_number": 269,
       "text": [
        "151925"
       ]
      }
     ],
     "prompt_number": 269
    },
    {
     "cell_type": "code",
     "collapsed": false,
     "input": [
      "int(g_end) - int(g_start)"
     ],
     "language": "python",
     "metadata": {},
     "outputs": [
      {
       "metadata": {},
       "output_type": "pyout",
       "prompt_number": 270,
       "text": [
        "151924"
       ]
      }
     ],
     "prompt_number": 270
    },
    {
     "cell_type": "code",
     "collapsed": false,
     "input": [
      "0.15 * num_genes"
     ],
     "language": "python",
     "metadata": {},
     "outputs": [
      {
       "metadata": {},
       "output_type": "pyout",
       "prompt_number": 278,
       "text": [
        "20.849999999999998"
       ]
      }
     ],
     "prompt_number": 278
    },
    {
     "cell_type": "code",
     "collapsed": false,
     "input": [],
     "language": "python",
     "metadata": {},
     "outputs": []
    }
   ],
   "metadata": {}
  }
 ]
}