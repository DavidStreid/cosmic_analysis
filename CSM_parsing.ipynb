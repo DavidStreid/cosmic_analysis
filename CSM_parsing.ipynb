{
 "metadata": {
  "name": "",
  "signature": "sha256:375c05389b1d8b24a8bcaeb46e6e9f265e4a7406ec87f2af24cdb672480ecac2"
 },
 "nbformat": 3,
 "nbformat_minor": 0,
 "worksheets": [
  {
   "cells": [
    {
     "cell_type": "code",
     "collapsed": false,
     "input": [
      "import pandas as pd\n",
      "import requests, sys\n",
      "import csv\n",
      "\n",
      "# FOR PLOTTING OF DATA\n",
      "%matplotlib inline\n",
      "import matplotlib\n",
      "import pandas as pd\n",
      "import numpy as np\n",
      "import matplotlib.pyplot as plt"
     ],
     "language": "python",
     "metadata": {},
     "outputs": [],
     "prompt_number": 1
    },
    {
     "cell_type": "markdown",
     "metadata": {},
     "source": [
      "# Get COSMIC/gene Data\n",
      "### CSM_columns = \n",
      "['Gene name', 'Accession Number', 'Gene CDS length', 'HGNC ID', 'Sample name', 'ID_sample', 'ID_tumour', 'Primary site', 'Site subtype 1', u'Site subtype 2', u'Site subtype 3', u'Primary histology', u'Histology subtype 1', u'Histology subtype 2', u'Histology subtype 3', u'Genome-wide screen', u'Mutation ID', u'Mutation CDS', u'Mutation AA', u'Mutation Description', u'Mutation zygosity', u'LOH', u'GRCh', u'Mutation genome position', u'Mutation strand', u'SNP', u'FATHMM prediction', u'FATHMM score', u'Mutation somatic status', u'Pubmed_PMID', u'ID_STUDY', u'Sample source', u'Tumour origin', u'Age']"
     ]
    },
    {
     "cell_type": "code",
     "collapsed": false,
     "input": [
      "cosmic_data = pd.read_csv('CosmicMutantExport.tsv',delimiter='\\t',encoding='utf-8')"
     ],
     "language": "python",
     "metadata": {},
     "outputs": [],
     "prompt_number": 25
    },
    {
     "cell_type": "markdown",
     "metadata": {},
     "source": [
      "# Parse & Select only data for relevant genes\n",
      "\n",
      "### genes_of_interest (list): Only genes that we are interested in\n",
      "### GOI_cosmic (dataframe): Cosmic data only about relevant genes"
     ]
    },
    {
     "cell_type": "code",
     "collapsed": false,
     "input": [
      "# Grab the genes from the gene_domain_mappings.txt file\n",
      "genes = []\n",
      "genes_one_line =[]\n",
      "mapped_to_domains = []\n",
      "mapped_to_domains_one_line = []\n",
      "synonyms = []\n",
      "\n",
      "with open('gene_domain_mappings.txt','r') as f:\n",
      "    next(f) # Skip the headers in the file\n",
      "    reader=csv.reader(f,delimiter='\\t')\n",
      "    for i in reader:\n",
      "        mapped_to_domains_one_line.append(i[3])\n",
      "        genes_one_line.append(i[0])\n",
      "        domains = i[3].split(',')\n",
      "        for d in domains:\n",
      "            genes.append(i[0])\n",
      "            mapped_to_domains.append(d)\n",
      "            \n",
      "gene_info = pd.DataFrame({'gene_name': genes, 'pdom_id': mapped_to_domains})\n",
      "gene_info_one_line = pd.DataFrame({'gene_name': genes_one_line, 'pdom_id': mapped_to_domains_one_line})\n",
      "genes_of_interest = list(set(gene_info['gene_name']))\n",
      "\n",
      "GOI_cosmic = cosmic_data.loc[cosmic_data['Gene name'].isin(genes_of_interest)] # GOI_cosmic: cosmic data only on selected genes"
     ],
     "language": "python",
     "metadata": {},
     "outputs": [],
     "prompt_number": 39
    },
    {
     "cell_type": "markdown",
     "metadata": {},
     "source": [
      "# Get Cosmic Mutation position for genes_of_interest\n",
      "## Missing Genes\n",
      "### ['PARG', 'UHRF1', 'GSK3B', 'PAK2', 'MLL3', 'MLL2', 'MYST4', 'RPS6KA5', 'KDM5B', 'PRKDC', 'C14ORF169', 'CDK3', 'MLL']"
     ]
    },
    {
     "cell_type": "code",
     "collapsed": false,
     "input": [
      "gene = []\n",
      "missing_genes = []\n",
      "\n",
      "graph_info = [] # Each entry = [GENE   CHROMOSOME   POSITION_LIST   COUNT_LIST]\n",
      "\n",
      "for i in range(len(genes_of_interest)):\n",
      "    gene = GOI_cosmic[GOI_cosmic['Gene name'] == genes_of_interest[i]]\n",
      "    mut_chr = [] # chromosome\n",
      "    mut_pos = [] # position\n",
      "    \n",
      "    if gene.shape[0]:\n",
      "        pos_list = gene['Mutation genome position'].tolist()\n",
      "        for p in pos_list:\n",
      "            try:\n",
      "                p = p.split(':')\n",
      "            except AttributeError:\n",
      "                break\n",
      "            mut_chr.append(int(p[0]))\n",
      "            mp = p[1].split('-')\n",
      "            if len(mp) > 1:\n",
      "                mut_pos.extend([int(mp[0]), int(mp[1])])\n",
      "            else:\n",
      "                mut_pos.extend(int(mp))\n",
      "    else:\n",
      "        missing_genes.append(genes_of_interest[i])                # If there are no entries for that gene\n",
      "    \n",
      "    mut_chr = list(set(mut_chr))                                  # Assuming that 1 gene:chromosomea; len(mut_chr) == 1\n",
      "    mut_pos = list(set(mut_pos))\n",
      "    \n",
      "    mp_dic = {}\n",
      "    for p in mut_pos:\n",
      "        if not mp_dic.has_key(p):\n",
      "            mp_dic[p] = 1\n",
      "        else:\n",
      "            mp_dic[p] += 1\n",
      "        \n",
      "    xpos = []\n",
      "    ypos = []\n",
      "    for p in mp_dic.keys():\n",
      "        xpos.append(p)          # position\n",
      "        ypos.append(mp_dic[p])  # count at position\n",
      "    \n",
      "    graph_info.append([genes_of_interest[i], mut_chr, xpos, ypos])"
     ],
     "language": "python",
     "metadata": {},
     "outputs": [],
     "prompt_number": 107
    },
    {
     "cell_type": "code",
     "collapsed": false,
     "input": [
      "for g in graph_info:\n",
      "    if len(g[2]): # Only graph those with recoreded values\n",
      "        plt.scatter(g[2], g[3], linewidth=2.0)\n",
      "        plt.show()"
     ],
     "language": "python",
     "metadata": {},
     "outputs": [],
     "prompt_number": 120
    },
    {
     "cell_type": "code",
     "collapsed": false,
     "input": [],
     "language": "python",
     "metadata": {},
     "outputs": []
    }
   ],
   "metadata": {}
  }
 ]
}